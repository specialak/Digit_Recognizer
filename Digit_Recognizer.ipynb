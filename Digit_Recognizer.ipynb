{
  "nbformat": 4,
  "nbformat_minor": 0,
  "metadata": {
    "colab": {
      "name": "Digit Recognizer.ipynb",
      "version": "0.3.2",
      "provenance": [],
      "toc_visible": true,
      "include_colab_link": true
    },
    "kernelspec": {
      "name": "python3",
      "display_name": "Python 3"
    },
    "accelerator": "TPU"
  },
  "cells": [
    {
      "cell_type": "markdown",
      "metadata": {
        "id": "view-in-github",
        "colab_type": "text"
      },
      "source": [
        "<a href=\"https://colab.research.google.com/github/specialak/Digit_Recognizer/blob/master/Digit_Recognizer.ipynb\" target=\"_parent\"><img src=\"https://colab.research.google.com/assets/colab-badge.svg\" alt=\"Open In Colab\"/></a>"
      ]
    },
    {
      "metadata": {
        "id": "pxAkaIJMV29n",
        "colab_type": "code",
        "colab": {}
      },
      "cell_type": "code",
      "source": [
        "import numpy as np\n",
        "import pandas as pd\n",
        "import matplotlib.pyplot as plt\n",
        "%matplotlib inline "
      ],
      "execution_count": 0,
      "outputs": []
    },
    {
      "metadata": {
        "id": "PzUPoWpuWuEF",
        "colab_type": "code",
        "outputId": "e329145e-a957-47c3-9491-0a5ff28b1c81",
        "colab": {
          "base_uri": "https://localhost:8080/",
          "height": 34
        }
      },
      "cell_type": "code",
      "source": [
        "from keras.models import Sequential\n",
        "from keras.layers import Dense,Dropout, Lambda, Flatten\n",
        "from keras.optimizers import Adam, RMSprop\n",
        "from sklearn.model_selection import train_test_split\n",
        "from keras import backend\n",
        "from keras.preprocessing.image import ImageDataGenerator"
      ],
      "execution_count": 2,
      "outputs": [
        {
          "output_type": "stream",
          "text": [
            "Using TensorFlow backend.\n"
          ],
          "name": "stderr"
        }
      ]
    },
    {
      "metadata": {
        "id": "3uedseafYAmR",
        "colab_type": "code",
        "outputId": "e7ab9fc2-259a-421b-a92d-a6956d14f696",
        "colab": {
          "base_uri": "https://localhost:8080/",
          "height": 51
        }
      },
      "cell_type": "code",
      "source": [
        "\n",
        "!pip install -U -q pydrive"
      ],
      "execution_count": 3,
      "outputs": [
        {
          "output_type": "stream",
          "text": [
            "\u001b[?25l\r\u001b[K    1% |▎                               | 10kB 18.2MB/s eta 0:00:01\r\u001b[K    2% |▋                               | 20kB 2.2MB/s eta 0:00:01\r\u001b[K    3% |█                               | 30kB 3.2MB/s eta 0:00:01\r\u001b[K    4% |█▎                              | 40kB 2.1MB/s eta 0:00:01\r\u001b[K    5% |█▋                              | 51kB 2.6MB/s eta 0:00:01\r\u001b[K    6% |██                              | 61kB 3.1MB/s eta 0:00:01\r\u001b[K    7% |██▎                             | 71kB 3.5MB/s eta 0:00:01\r\u001b[K    8% |██▋                             | 81kB 4.0MB/s eta 0:00:01\r\u001b[K    9% |███                             | 92kB 4.4MB/s eta 0:00:01\r\u001b[K    10% |███▎                            | 102kB 3.4MB/s eta 0:00:01\r\u001b[K    11% |███▋                            | 112kB 3.4MB/s eta 0:00:01\r\u001b[K    12% |████                            | 122kB 4.8MB/s eta 0:00:01\r\u001b[K    13% |████▎                           | 133kB 4.8MB/s eta 0:00:01\r\u001b[K    14% |████▋                           | 143kB 8.8MB/s eta 0:00:01\r\u001b[K    15% |█████                           | 153kB 9.1MB/s eta 0:00:01\r\u001b[K    16% |█████▎                          | 163kB 9.1MB/s eta 0:00:01\r\u001b[K    17% |█████▋                          | 174kB 8.9MB/s eta 0:00:01\r\u001b[K    18% |██████                          | 184kB 8.9MB/s eta 0:00:01\r\u001b[K    19% |██████▎                         | 194kB 9.0MB/s eta 0:00:01\r\u001b[K    20% |██████▋                         | 204kB 38.8MB/s eta 0:00:01\r\u001b[K    21% |███████                         | 215kB 10.5MB/s eta 0:00:01\r\u001b[K    22% |███████▎                        | 225kB 10.4MB/s eta 0:00:01\r\u001b[K    23% |███████▋                        | 235kB 10.5MB/s eta 0:00:01\r\u001b[K    24% |████████                        | 245kB 10.5MB/s eta 0:00:01\r\u001b[K    25% |████████▎                       | 256kB 10.4MB/s eta 0:00:01\r\u001b[K    26% |████████▋                       | 266kB 10.0MB/s eta 0:00:01\r\u001b[K    27% |█████████                       | 276kB 10.3MB/s eta 0:00:01\r\u001b[K    29% |█████████▎                      | 286kB 10.3MB/s eta 0:00:01\r\u001b[K    30% |█████████▋                      | 296kB 10.3MB/s eta 0:00:01\r\u001b[K    31% |██████████                      | 307kB 10.5MB/s eta 0:00:01\r\u001b[K    32% |██████████▎                     | 317kB 43.0MB/s eta 0:00:01\r\u001b[K    33% |██████████▋                     | 327kB 45.8MB/s eta 0:00:01\r\u001b[K    34% |███████████                     | 337kB 47.1MB/s eta 0:00:01\r\u001b[K    35% |███████████▎                    | 348kB 42.4MB/s eta 0:00:01\r\u001b[K    36% |███████████▋                    | 358kB 42.6MB/s eta 0:00:01\r\u001b[K    37% |████████████                    | 368kB 50.9MB/s eta 0:00:01\r\u001b[K    38% |████████████▎                   | 378kB 51.0MB/s eta 0:00:01\r\u001b[K    39% |████████████▋                   | 389kB 51.3MB/s eta 0:00:01\r\u001b[K    40% |█████████████                   | 399kB 12.6MB/s eta 0:00:01\r\u001b[K    41% |█████████████▎                  | 409kB 12.3MB/s eta 0:00:01\r\u001b[K    42% |█████████████▋                  | 419kB 12.1MB/s eta 0:00:01\r\u001b[K    43% |██████████████                  | 430kB 12.1MB/s eta 0:00:01\r\u001b[K    44% |██████████████▎                 | 440kB 12.1MB/s eta 0:00:01\r\u001b[K    45% |██████████████▋                 | 450kB 12.1MB/s eta 0:00:01\r\u001b[K    46% |███████████████                 | 460kB 12.1MB/s eta 0:00:01\r\u001b[K    47% |███████████████▎                | 471kB 12.1MB/s eta 0:00:01\r\u001b[K    48% |███████████████▋                | 481kB 12.2MB/s eta 0:00:01\r\u001b[K    49% |████████████████                | 491kB 12.2MB/s eta 0:00:01\r\u001b[K    50% |████████████████▎               | 501kB 46.0MB/s eta 0:00:01\r\u001b[K    51% |████████████████▋               | 512kB 44.2MB/s eta 0:00:01\r\u001b[K    52% |█████████████████               | 522kB 46.7MB/s eta 0:00:01\r\u001b[K    53% |█████████████████▎              | 532kB 47.6MB/s eta 0:00:01\r\u001b[K    54% |█████████████████▋              | 542kB 48.0MB/s eta 0:00:01\r\u001b[K    55% |██████████████████              | 552kB 56.7MB/s eta 0:00:01\r\u001b[K    57% |██████████████████▎             | 563kB 56.2MB/s eta 0:00:01\r\u001b[K    58% |██████████████████▋             | 573kB 54.9MB/s eta 0:00:01\r\u001b[K    59% |███████████████████             | 583kB 54.6MB/s eta 0:00:01\r\u001b[K    60% |███████████████████▎            | 593kB 54.1MB/s eta 0:00:01\r\u001b[K    61% |███████████████████▋            | 604kB 54.5MB/s eta 0:00:01\r\u001b[K    62% |████████████████████            | 614kB 63.7MB/s eta 0:00:01\r\u001b[K    63% |████████████████████▎           | 624kB 61.3MB/s eta 0:00:01\r\u001b[K    64% |████████████████████▋           | 634kB 60.7MB/s eta 0:00:01\r\u001b[K    65% |█████████████████████           | 645kB 59.8MB/s eta 0:00:01\r\u001b[K    66% |█████████████████████▎          | 655kB 58.4MB/s eta 0:00:01\r\u001b[K    67% |█████████████████████▋          | 665kB 42.0MB/s eta 0:00:01\r\u001b[K    68% |██████████████████████          | 675kB 15.2MB/s eta 0:00:01\r\u001b[K    69% |██████████████████████▎         | 686kB 14.8MB/s eta 0:00:01\r\u001b[K    70% |██████████████████████▋         | 696kB 14.7MB/s eta 0:00:01\r\u001b[K    71% |███████████████████████         | 706kB 14.6MB/s eta 0:00:01\r\u001b[K    72% |███████████████████████▎        | 716kB 14.7MB/s eta 0:00:01\r\u001b[K    73% |███████████████████████▋        | 727kB 14.8MB/s eta 0:00:01\r\u001b[K    74% |████████████████████████        | 737kB 14.7MB/s eta 0:00:01\r\u001b[K    75% |████████████████████████▎       | 747kB 14.7MB/s eta 0:00:01\r\u001b[K    76% |████████████████████████▋       | 757kB 14.7MB/s eta 0:00:01\r\u001b[K    77% |████████████████████████▉       | 768kB 16.4MB/s eta 0:00:01\r\u001b[K    78% |█████████████████████████▏      | 778kB 52.8MB/s eta 0:00:01\r\u001b[K    79% |█████████████████████████▌      | 788kB 56.6MB/s eta 0:00:01\r\u001b[K    80% |█████████████████████████▉      | 798kB 58.0MB/s eta 0:00:01\r\u001b[K    81% |██████████████████████████▏     | 808kB 57.9MB/s eta 0:00:01\r\u001b[K    82% |██████████████████████████▌     | 819kB 56.9MB/s eta 0:00:01\r\u001b[K    83% |██████████████████████████▉     | 829kB 58.2MB/s eta 0:00:01\r\u001b[K    85% |███████████████████████████▏    | 839kB 57.7MB/s eta 0:00:01\r\u001b[K    86% |███████████████████████████▌    | 849kB 57.4MB/s eta 0:00:01\r\u001b[K    87% |███████████████████████████▉    | 860kB 46.2MB/s eta 0:00:01\r\u001b[K    88% |████████████████████████████▏   | 870kB 44.8MB/s eta 0:00:01\r\u001b[K    89% |████████████████████████████▌   | 880kB 45.5MB/s eta 0:00:01\r\u001b[K    90% |████████████████████████████▉   | 890kB 47.4MB/s eta 0:00:01\r\u001b[K    91% |█████████████████████████████▏  | 901kB 47.7MB/s eta 0:00:01\r\u001b[K    92% |█████████████████████████████▌  | 911kB 48.7MB/s eta 0:00:01\r\u001b[K    93% |█████████████████████████████▉  | 921kB 49.0MB/s eta 0:00:01\r\u001b[K    94% |██████████████████████████████▏ | 931kB 49.3MB/s eta 0:00:01\r\u001b[K    95% |██████████████████████████████▌ | 942kB 49.2MB/s eta 0:00:01\r\u001b[K    96% |██████████████████████████████▉ | 952kB 49.1MB/s eta 0:00:01\r\u001b[K    97% |███████████████████████████████▏| 962kB 63.4MB/s eta 0:00:01\r\u001b[K    98% |███████████████████████████████▌| 972kB 65.8MB/s eta 0:00:01\r\u001b[K    99% |███████████████████████████████▉| 983kB 64.6MB/s eta 0:00:01\r\u001b[K    100% |████████████████████████████████| 993kB 18.1MB/s \n",
            "\u001b[?25h  Building wheel for pydrive (setup.py) ... \u001b[?25ldone\n",
            "\u001b[?25h"
          ],
          "name": "stdout"
        }
      ]
    },
    {
      "metadata": {
        "id": "wI-NtL-SYaem",
        "colab_type": "code",
        "outputId": "51599edd-9737-4b2f-f768-7e0f5bb302fe",
        "colab": {
          "base_uri": "https://localhost:8080/",
          "height": 136
        }
      },
      "cell_type": "code",
      "source": [
        "from pydrive.auth import GoogleAuth\n",
        "from pydrive.drive import GoogleDrive\n",
        "from oauth2client.client import GoogleCredentials\n",
        "from google.colab import auth\n",
        "auth.authenticate_user()\n",
        "gauth = GoogleAuth()\n",
        "gauth.credentials  = GoogleCredentials.get_application_default()\n",
        "drive = GoogleDrive(gauth)"
      ],
      "execution_count": 4,
      "outputs": [
        {
          "output_type": "stream",
          "text": [
            "\n",
            "WARNING: The TensorFlow contrib module will not be included in TensorFlow 2.0.\n",
            "For more information, please see:\n",
            "  * https://github.com/tensorflow/community/blob/master/rfcs/20180907-contrib-sunset.md\n",
            "  * https://github.com/tensorflow/addons\n",
            "If you depend on functionality not listed there, please file an issue.\n",
            "\n"
          ],
          "name": "stdout"
        }
      ]
    },
    {
      "metadata": {
        "id": "yK09xWkXZqHH",
        "colab_type": "code",
        "colab": {}
      },
      "cell_type": "code",
      "source": [
        "train_data = '1Ma_kBqf8xwHywDSKG6bTVgPlYZrOB40l'\n",
        "test_data = '1x_VMcqHXpmhYm0z268wez3w2ZFm---V9'"
      ],
      "execution_count": 0,
      "outputs": []
    },
    {
      "metadata": {
        "id": "0s8kvnwDao3j",
        "colab_type": "code",
        "colab": {}
      },
      "cell_type": "code",
      "source": [
        "train = drive.CreateFile({'id': train_data})\n",
        "train.GetContentFile('train.csv')\n",
        "test = drive.CreateFile({'id' : test_data})\n",
        "test.GetContentFile('test.csv')"
      ],
      "execution_count": 0,
      "outputs": []
    },
    {
      "metadata": {
        "id": "fS3E3OXRbMXZ",
        "colab_type": "code",
        "colab": {}
      },
      "cell_type": "code",
      "source": [
        "train = pd.read_csv('train.csv')\n",
        "test = pd.read_csv('test.csv')"
      ],
      "execution_count": 0,
      "outputs": []
    },
    {
      "metadata": {
        "id": "gjHGnS7ybet4",
        "colab_type": "code",
        "outputId": "5b6e09a2-2dff-4bcc-f27a-89f9ed7cdede",
        "colab": {
          "base_uri": "https://localhost:8080/",
          "height": 34
        }
      },
      "cell_type": "code",
      "source": [
        "train.shape"
      ],
      "execution_count": 0,
      "outputs": [
        {
          "output_type": "execute_result",
          "data": {
            "text/plain": [
              "(42000, 785)"
            ]
          },
          "metadata": {
            "tags": []
          },
          "execution_count": 9
        }
      ]
    },
    {
      "metadata": {
        "id": "8iyRGA6dbpmD",
        "colab_type": "code",
        "outputId": "01015ba5-29f7-4c48-a910-99574cd53aa5",
        "colab": {
          "base_uri": "https://localhost:8080/",
          "height": 34
        }
      },
      "cell_type": "code",
      "source": [
        "test.shape\n"
      ],
      "execution_count": 0,
      "outputs": [
        {
          "output_type": "execute_result",
          "data": {
            "text/plain": [
              "(28000, 784)"
            ]
          },
          "metadata": {
            "tags": []
          },
          "execution_count": 10
        }
      ]
    },
    {
      "metadata": {
        "id": "VJd6jucubsCM",
        "colab_type": "code",
        "outputId": "494c3d8e-b016-4f79-e988-d61543a6b62e",
        "colab": {
          "base_uri": "https://localhost:8080/",
          "height": 253
        }
      },
      "cell_type": "code",
      "source": [
        "train.head()"
      ],
      "execution_count": 0,
      "outputs": [
        {
          "output_type": "execute_result",
          "data": {
            "text/html": [
              "<div>\n",
              "<style scoped>\n",
              "    .dataframe tbody tr th:only-of-type {\n",
              "        vertical-align: middle;\n",
              "    }\n",
              "\n",
              "    .dataframe tbody tr th {\n",
              "        vertical-align: top;\n",
              "    }\n",
              "\n",
              "    .dataframe thead th {\n",
              "        text-align: right;\n",
              "    }\n",
              "</style>\n",
              "<table border=\"1\" class=\"dataframe\">\n",
              "  <thead>\n",
              "    <tr style=\"text-align: right;\">\n",
              "      <th></th>\n",
              "      <th>label</th>\n",
              "      <th>pixel0</th>\n",
              "      <th>pixel1</th>\n",
              "      <th>pixel2</th>\n",
              "      <th>pixel3</th>\n",
              "      <th>pixel4</th>\n",
              "      <th>pixel5</th>\n",
              "      <th>pixel6</th>\n",
              "      <th>pixel7</th>\n",
              "      <th>pixel8</th>\n",
              "      <th>...</th>\n",
              "      <th>pixel774</th>\n",
              "      <th>pixel775</th>\n",
              "      <th>pixel776</th>\n",
              "      <th>pixel777</th>\n",
              "      <th>pixel778</th>\n",
              "      <th>pixel779</th>\n",
              "      <th>pixel780</th>\n",
              "      <th>pixel781</th>\n",
              "      <th>pixel782</th>\n",
              "      <th>pixel783</th>\n",
              "    </tr>\n",
              "  </thead>\n",
              "  <tbody>\n",
              "    <tr>\n",
              "      <th>0</th>\n",
              "      <td>1</td>\n",
              "      <td>0</td>\n",
              "      <td>0</td>\n",
              "      <td>0</td>\n",
              "      <td>0</td>\n",
              "      <td>0</td>\n",
              "      <td>0</td>\n",
              "      <td>0</td>\n",
              "      <td>0</td>\n",
              "      <td>0</td>\n",
              "      <td>...</td>\n",
              "      <td>0</td>\n",
              "      <td>0</td>\n",
              "      <td>0</td>\n",
              "      <td>0</td>\n",
              "      <td>0</td>\n",
              "      <td>0</td>\n",
              "      <td>0</td>\n",
              "      <td>0</td>\n",
              "      <td>0</td>\n",
              "      <td>0</td>\n",
              "    </tr>\n",
              "    <tr>\n",
              "      <th>1</th>\n",
              "      <td>0</td>\n",
              "      <td>0</td>\n",
              "      <td>0</td>\n",
              "      <td>0</td>\n",
              "      <td>0</td>\n",
              "      <td>0</td>\n",
              "      <td>0</td>\n",
              "      <td>0</td>\n",
              "      <td>0</td>\n",
              "      <td>0</td>\n",
              "      <td>...</td>\n",
              "      <td>0</td>\n",
              "      <td>0</td>\n",
              "      <td>0</td>\n",
              "      <td>0</td>\n",
              "      <td>0</td>\n",
              "      <td>0</td>\n",
              "      <td>0</td>\n",
              "      <td>0</td>\n",
              "      <td>0</td>\n",
              "      <td>0</td>\n",
              "    </tr>\n",
              "    <tr>\n",
              "      <th>2</th>\n",
              "      <td>1</td>\n",
              "      <td>0</td>\n",
              "      <td>0</td>\n",
              "      <td>0</td>\n",
              "      <td>0</td>\n",
              "      <td>0</td>\n",
              "      <td>0</td>\n",
              "      <td>0</td>\n",
              "      <td>0</td>\n",
              "      <td>0</td>\n",
              "      <td>...</td>\n",
              "      <td>0</td>\n",
              "      <td>0</td>\n",
              "      <td>0</td>\n",
              "      <td>0</td>\n",
              "      <td>0</td>\n",
              "      <td>0</td>\n",
              "      <td>0</td>\n",
              "      <td>0</td>\n",
              "      <td>0</td>\n",
              "      <td>0</td>\n",
              "    </tr>\n",
              "    <tr>\n",
              "      <th>3</th>\n",
              "      <td>4</td>\n",
              "      <td>0</td>\n",
              "      <td>0</td>\n",
              "      <td>0</td>\n",
              "      <td>0</td>\n",
              "      <td>0</td>\n",
              "      <td>0</td>\n",
              "      <td>0</td>\n",
              "      <td>0</td>\n",
              "      <td>0</td>\n",
              "      <td>...</td>\n",
              "      <td>0</td>\n",
              "      <td>0</td>\n",
              "      <td>0</td>\n",
              "      <td>0</td>\n",
              "      <td>0</td>\n",
              "      <td>0</td>\n",
              "      <td>0</td>\n",
              "      <td>0</td>\n",
              "      <td>0</td>\n",
              "      <td>0</td>\n",
              "    </tr>\n",
              "    <tr>\n",
              "      <th>4</th>\n",
              "      <td>0</td>\n",
              "      <td>0</td>\n",
              "      <td>0</td>\n",
              "      <td>0</td>\n",
              "      <td>0</td>\n",
              "      <td>0</td>\n",
              "      <td>0</td>\n",
              "      <td>0</td>\n",
              "      <td>0</td>\n",
              "      <td>0</td>\n",
              "      <td>...</td>\n",
              "      <td>0</td>\n",
              "      <td>0</td>\n",
              "      <td>0</td>\n",
              "      <td>0</td>\n",
              "      <td>0</td>\n",
              "      <td>0</td>\n",
              "      <td>0</td>\n",
              "      <td>0</td>\n",
              "      <td>0</td>\n",
              "      <td>0</td>\n",
              "    </tr>\n",
              "  </tbody>\n",
              "</table>\n",
              "<p>5 rows × 785 columns</p>\n",
              "</div>"
            ],
            "text/plain": [
              "   label  pixel0  pixel1  pixel2  pixel3  pixel4  pixel5  pixel6  pixel7  \\\n",
              "0      1       0       0       0       0       0       0       0       0   \n",
              "1      0       0       0       0       0       0       0       0       0   \n",
              "2      1       0       0       0       0       0       0       0       0   \n",
              "3      4       0       0       0       0       0       0       0       0   \n",
              "4      0       0       0       0       0       0       0       0       0   \n",
              "\n",
              "   pixel8    ...     pixel774  pixel775  pixel776  pixel777  pixel778  \\\n",
              "0       0    ...            0         0         0         0         0   \n",
              "1       0    ...            0         0         0         0         0   \n",
              "2       0    ...            0         0         0         0         0   \n",
              "3       0    ...            0         0         0         0         0   \n",
              "4       0    ...            0         0         0         0         0   \n",
              "\n",
              "   pixel779  pixel780  pixel781  pixel782  pixel783  \n",
              "0         0         0         0         0         0  \n",
              "1         0         0         0         0         0  \n",
              "2         0         0         0         0         0  \n",
              "3         0         0         0         0         0  \n",
              "4         0         0         0         0         0  \n",
              "\n",
              "[5 rows x 785 columns]"
            ]
          },
          "metadata": {
            "tags": []
          },
          "execution_count": 11
        }
      ]
    },
    {
      "metadata": {
        "id": "gfOG8EaqbxsH",
        "colab_type": "code",
        "outputId": "89b4fe49-3982-48fa-a45f-b321c7ba3a59",
        "colab": {
          "base_uri": "https://localhost:8080/",
          "height": 1071
        }
      },
      "cell_type": "code",
      "source": [
        "train.isnull().sum().sort_values(ascending = False)"
      ],
      "execution_count": 0,
      "outputs": [
        {
          "output_type": "execute_result",
          "data": {
            "text/plain": [
              "pixel783    0\n",
              "pixel267    0\n",
              "pixel265    0\n",
              "pixel264    0\n",
              "pixel263    0\n",
              "pixel262    0\n",
              "pixel261    0\n",
              "pixel260    0\n",
              "pixel259    0\n",
              "pixel258    0\n",
              "pixel257    0\n",
              "pixel256    0\n",
              "pixel255    0\n",
              "pixel254    0\n",
              "pixel253    0\n",
              "pixel252    0\n",
              "pixel251    0\n",
              "pixel250    0\n",
              "pixel249    0\n",
              "pixel248    0\n",
              "pixel247    0\n",
              "pixel246    0\n",
              "pixel245    0\n",
              "pixel266    0\n",
              "pixel268    0\n",
              "pixel390    0\n",
              "pixel269    0\n",
              "pixel290    0\n",
              "pixel289    0\n",
              "pixel288    0\n",
              "           ..\n",
              "pixel495    0\n",
              "pixel494    0\n",
              "pixel493    0\n",
              "pixel492    0\n",
              "pixel491    0\n",
              "pixel512    0\n",
              "pixel513    0\n",
              "pixel514    0\n",
              "pixel526    0\n",
              "pixel535    0\n",
              "pixel534    0\n",
              "pixel533    0\n",
              "pixel532    0\n",
              "pixel531    0\n",
              "pixel530    0\n",
              "pixel529    0\n",
              "pixel528    0\n",
              "pixel527    0\n",
              "pixel525    0\n",
              "pixel515    0\n",
              "pixel524    0\n",
              "pixel523    0\n",
              "pixel522    0\n",
              "pixel521    0\n",
              "pixel520    0\n",
              "pixel519    0\n",
              "pixel518    0\n",
              "pixel517    0\n",
              "pixel516    0\n",
              "label       0\n",
              "Length: 785, dtype: int64"
            ]
          },
          "metadata": {
            "tags": []
          },
          "execution_count": 12
        }
      ]
    },
    {
      "metadata": {
        "id": "nQyJncpycUNF",
        "colab_type": "code",
        "colab": {}
      },
      "cell_type": "code",
      "source": [
        "X_train = train.iloc[:,1:].values\n",
        "Y_train = train.iloc[:,0].values\n"
      ],
      "execution_count": 0,
      "outputs": []
    },
    {
      "metadata": {
        "id": "NYcskIAydYSt",
        "colab_type": "code",
        "outputId": "5516634b-7cfa-4e58-b0d2-7e06e37d1263",
        "colab": {
          "base_uri": "https://localhost:8080/",
          "height": 51
        }
      },
      "cell_type": "code",
      "source": [
        "print(X_train.shape)\n",
        "Y_train.shape"
      ],
      "execution_count": 0,
      "outputs": [
        {
          "output_type": "stream",
          "text": [
            "(42000, 784)\n"
          ],
          "name": "stdout"
        },
        {
          "output_type": "execute_result",
          "data": {
            "text/plain": [
              "(42000,)"
            ]
          },
          "metadata": {
            "tags": []
          },
          "execution_count": 14
        }
      ]
    },
    {
      "metadata": {
        "id": "et-MfA0Ndd_m",
        "colab_type": "code",
        "outputId": "736206e2-d0bd-4a23-c09b-822ec08fd36f",
        "colab": {
          "base_uri": "https://localhost:8080/",
          "height": 34
        }
      },
      "cell_type": "code",
      "source": [
        "Y_train"
      ],
      "execution_count": 0,
      "outputs": [
        {
          "output_type": "execute_result",
          "data": {
            "text/plain": [
              "array([1, 0, 1, ..., 7, 6, 9])"
            ]
          },
          "metadata": {
            "tags": []
          },
          "execution_count": 15
        }
      ]
    },
    {
      "metadata": {
        "id": "Vdl8D_afdoSn",
        "colab_type": "code",
        "outputId": "ea51cf76-31b3-4c4d-b231-7b43bfcdfc47",
        "colab": {
          "base_uri": "https://localhost:8080/",
          "height": 111
        }
      },
      "cell_type": "code",
      "source": [
        "X_train = X_train.reshape(X_train.shape[0],28,28)\n",
        "for i in range(1,6):\n",
        "  plt.subplot(360+(i+1))\n",
        "  plt.imshow(X_train[i],cmap = plt.get_cmap('gray'))\n",
        "  plt.title(Y_train[i])"
      ],
      "execution_count": 9,
      "outputs": [
        {
          "output_type": "display_data",
          "data": {
            "image/png": "[encoded data removed]",
            "text/plain": [
              "<Figure size 432x288 with 5 Axes>"
            ]
          },
          "metadata": {
            "tags": []
          }
        }
      ]
    },
    {
      "metadata": {
        "id": "M640kKxzejMR",
        "colab_type": "code",
        "colab": {}
      },
      "cell_type": "code",
      "source": [
        "X_train = X_train.reshape(X_train.shape[0],28,28,1)\n",
        "X_test = test.values\n",
        "X_test = X_test.reshape(test.shape[0],28,28,1)"
      ],
      "execution_count": 0,
      "outputs": []
    },
    {
      "metadata": {
        "id": "fuwOmdWUgru2",
        "colab_type": "code",
        "outputId": "d750ff13-9e7c-4c3d-d272-893796a6cd2b",
        "colab": {
          "base_uri": "https://localhost:8080/",
          "height": 34
        }
      },
      "cell_type": "code",
      "source": [
        "X_train.shape"
      ],
      "execution_count": 0,
      "outputs": [
        {
          "output_type": "execute_result",
          "data": {
            "text/plain": [
              "(42000, 28, 28, 1)"
            ]
          },
          "metadata": {
            "tags": []
          },
          "execution_count": 18
        }
      ]
    },
    {
      "metadata": {
        "id": "FY9MQtnPg89T",
        "colab_type": "code",
        "outputId": "71bda5a5-027b-4297-b7f4-ec1b26d7eec7",
        "colab": {
          "base_uri": "https://localhost:8080/",
          "height": 34
        }
      },
      "cell_type": "code",
      "source": [
        "X_test.shape"
      ],
      "execution_count": 0,
      "outputs": [
        {
          "output_type": "execute_result",
          "data": {
            "text/plain": [
              "(28000, 28, 28, 1)"
            ]
          },
          "metadata": {
            "tags": []
          },
          "execution_count": 19
        }
      ]
    },
    {
      "metadata": {
        "id": "I4iAtPzMhAQF",
        "colab_type": "code",
        "colab": {}
      },
      "cell_type": "code",
      "source": [
        "def standardize(x):\n",
        "  return (x-X_train.mean())/X_train.std()"
      ],
      "execution_count": 0,
      "outputs": []
    },
    {
      "metadata": {
        "id": "jI5TwGvUiO7N",
        "colab_type": "code",
        "outputId": "63cfa2c9-d803-41d8-e8d4-84ad04b28373",
        "colab": {
          "base_uri": "https://localhost:8080/",
          "height": 34
        }
      },
      "cell_type": "code",
      "source": [
        "#know the number of different output\n",
        "from keras.utils.np_utils import to_categorical\n",
        "Y_train = to_categorical(Y_train)\n",
        "Y_train.shape"
      ],
      "execution_count": 12,
      "outputs": [
        {
          "output_type": "execute_result",
          "data": {
            "text/plain": [
              "(42000, 10)"
            ]
          },
          "metadata": {
            "tags": []
          },
          "execution_count": 12
        }
      ]
    },
    {
      "metadata": {
        "id": "xxTVYqnDjAxq",
        "colab_type": "code",
        "outputId": "e8cd0b56-fc6c-4fa3-efba-c35efbcf7cd8",
        "colab": {
          "base_uri": "https://localhost:8080/",
          "height": 334
        }
      },
      "cell_type": "code",
      "source": [
        "plt.title(Y_train[8])\n",
        "plt.plot(Y_train[8])\n",
        "plt.xticks(range(10));"
      ],
      "execution_count": 0,
      "outputs": [
        {
          "output_type": "stream",
          "text": [
            "/usr/local/lib/python3.6/dist-packages/matplotlib/text.py:1191: FutureWarning: elementwise comparison failed; returning scalar instead, but in the future will perform elementwise comparison\n",
            "  if s != self._text:\n"
          ],
          "name": "stderr"
        },
        {
          "output_type": "display_data",
          "data": {
            "image/png": "[encoded data removed]",
            "text/plain": [
              "<Figure size 432x288 with 1 Axes>"
            ]
          },
          "metadata": {
            "tags": []
          }
        }
      ]
    },
    {
      "metadata": {
        "id": "j8bOcuyOjvAa",
        "colab_type": "text"
      },
      "cell_type": "markdown",
      "source": [
        "# Designing neural network model\n"
      ]
    },
    {
      "metadata": {
        "id": "U-OvVT7ljW02",
        "colab_type": "code",
        "colab": {}
      },
      "cell_type": "code",
      "source": [
        "from keras.layers.core import  Lambda , Dense, Flatten, Dropout\n",
        "from keras.callbacks import EarlyStopping\n",
        "from keras.layers import BatchNormalization, Convolution2D , MaxPooling2D"
      ],
      "execution_count": 0,
      "outputs": []
    },
    {
      "metadata": {
        "id": "S3XzaHjAkc9H",
        "colab_type": "code",
        "outputId": "b676abb0-0988-4efe-bfd3-b6dc0036a938",
        "colab": {
          "base_uri": "https://localhost:8080/",
          "height": 122
        }
      },
      "cell_type": "code",
      "source": [
        "\n",
        "model= Sequential()\n",
        "model.add(Lambda(standardize,input_shape=(28,28,1)))\n",
        "model.add(Flatten())\n",
        "model.add(Dense(10, activation='softmax'))\n",
        "print(\"input shape \",model.input_shape)\n",
        "print(\"output shape \",model.output_shape)"
      ],
      "execution_count": 0,
      "outputs": [
        {
          "output_type": "stream",
          "text": [
            "WARNING:tensorflow:From /usr/local/lib/python3.6/dist-packages/tensorflow/python/framework/op_def_library.py:263: colocate_with (from tensorflow.python.framework.ops) is deprecated and will be removed in a future version.\n",
            "Instructions for updating:\n",
            "Colocations handled automatically by placer.\n",
            "input shape  (None, 28, 28, 1)\n",
            "output shape  (None, 10)\n"
          ],
          "name": "stdout"
        }
      ]
    },
    {
      "metadata": {
        "id": "_NbTbwqL42du",
        "colab_type": "code",
        "colab": {}
      },
      "cell_type": "code",
      "source": [
        "model.compile(optimizer = RMSprop(lr = 0.01), loss = 'categorical_crossentropy', metrics = ['accuracy'] )"
      ],
      "execution_count": 0,
      "outputs": []
    },
    {
      "metadata": {
        "id": "CkNZRf8K6_jy",
        "colab_type": "code",
        "colab": {}
      },
      "cell_type": "code",
      "source": [
        "from keras.preprocessing import image\n",
        "gen = image.ImageDataGenerator()"
      ],
      "execution_count": 0,
      "outputs": []
    },
    {
      "metadata": {
        "id": "3YT-0zbq7D-I",
        "colab_type": "code",
        "colab": {}
      },
      "cell_type": "code",
      "source": [
        "from sklearn.model_selection import train_test_split\n",
        "\n",
        "X = X_train\n",
        "Y = Y_train\n",
        "X_train,X_val,Y_train,Y_val = train_test_split(X,Y,test_size = 0.10, random_state = 0)\n",
        "\n",
        "batches = gen.flow(X_train, Y_train, batch_size = 64)\n",
        "val_batches = gen.flow(X_val,Y_val, batch_size = 64)"
      ],
      "execution_count": 0,
      "outputs": []
    },
    {
      "metadata": {
        "id": "ZGBrQugv8Mv5",
        "colab_type": "code",
        "colab": {}
      },
      "cell_type": "code",
      "source": [
        "history = model.fit_generator(generator = batches,steps_per_epoch = batches.n, epochs = 3, validation_data = val_batches,\n",
        "                             validation_steps = val_batches.n)"
      ],
      "execution_count": 0,
      "outputs": []
    },
    {
      "metadata": {
        "id": "-qI_9TdI8ePI",
        "colab_type": "code",
        "colab": {}
      },
      "cell_type": "code",
      "source": [
        "def fc_model():\n",
        "  model = Sequential([Lambda(standardize,input_shape = (28,28,1)),Flatten(),\n",
        "                     Dense(512, activation  = 'relu'),\n",
        "                     Dense(10, activation = 'softmax')])\n",
        "  model.compile(optimizer = 'Adam', loss = 'categorical_crossentropy', metrics = ['accuracy'])\n",
        "  return model"
      ],
      "execution_count": 0,
      "outputs": []
    },
    {
      "metadata": {
        "id": "fhQdmRhqBfGi",
        "colab_type": "code",
        "colab": {}
      },
      "cell_type": "code",
      "source": [
        "fc = fc_model()\n",
        "fc.optimizer.lr = 0.01"
      ],
      "execution_count": 0,
      "outputs": []
    },
    {
      "metadata": {
        "id": "Kvd9lYEeBrWB",
        "colab_type": "code",
        "colab": {}
      },
      "cell_type": "code",
      "source": [
        "fc_history = model.fit_generator(generator = batches,steps_per_epoch = batches.n, epochs = 2, validation_data = val_batches,\n",
        "                             validation_steps = val_batches.n)"
      ],
      "execution_count": 0,
      "outputs": []
    },
    {
      "metadata": {
        "id": "OK-49ajtCrod",
        "colab_type": "text"
      },
      "cell_type": "markdown",
      "source": [
        "#CNN"
      ]
    },
    {
      "metadata": {
        "id": "gabHwfKcB_s3",
        "colab_type": "code",
        "colab": {}
      },
      "cell_type": "code",
      "source": [
        "from keras.layers import Convolution2D, MaxPooling2D\n",
        "def CNN():\n",
        "  model = Sequential([Lambda(standardize, input_shape = (28,28,1)),\n",
        "                     Convolution2D(32,(3,3),activation = 'relu'),\n",
        "                     Convolution2D(32,(3,3),activation = 'relu'),\n",
        "                     MaxPooling2D(),\n",
        "                     Convolution2D(64,(3,3), activation='relu'),\n",
        "                     Convolution2D(64,(3,3), activation='relu'),\n",
        "                     MaxPooling2D(),\n",
        "                     Flatten(),\n",
        "                     Dense(512,activation = 'relu'),\n",
        "                     Dense(10,activation = 'softmax')])\n",
        "  model.compile(optimizer =Adam() , loss = 'categorical_crossentropy', metrics = ['accuracy'])\n",
        "  return model"
      ],
      "execution_count": 0,
      "outputs": []
    },
    {
      "metadata": {
        "id": "hBhT8tqMErDc",
        "colab_type": "code",
        "colab": {
          "base_uri": "https://localhost:8080/",
          "height": 88
        },
        "outputId": "05fdf77c-d431-4aae-8c04-fa39579243a1"
      },
      "cell_type": "code",
      "source": [
        "cnn = CNN()\n",
        "cnn.optimizer.lr = 0.01"
      ],
      "execution_count": 17,
      "outputs": [
        {
          "output_type": "stream",
          "text": [
            "WARNING:tensorflow:From /usr/local/lib/python3.6/dist-packages/tensorflow/python/framework/op_def_library.py:263: colocate_with (from tensorflow.python.framework.ops) is deprecated and will be removed in a future version.\n",
            "Instructions for updating:\n",
            "Colocations handled automatically by placer.\n"
          ],
          "name": "stdout"
        }
      ]
    },
    {
      "metadata": {
        "id": "MyBxomrJE1ra",
        "colab_type": "code",
        "outputId": "ebfb4f61-3a25-4975-dd3d-b2a273489665",
        "colab": {
          "base_uri": "https://localhost:8080/",
          "height": 51
        }
      },
      "cell_type": "code",
      "source": [
        "cnn_history = cnn.fit_generator(generator = batches,steps_per_epoch = batches.n, epochs = 1    , validation_data = val_batches,\n",
        "                             validation_steps = val_batches.n)"
      ],
      "execution_count": 0,
      "outputs": [
        {
          "output_type": "stream",
          "text": [
            "Epoch 1/1\n",
            "36127/37800 [===========================>..] - ETA: 4:40 - loss: 0.0924 - acc: 0.9732"
          ],
          "name": "stdout"
        }
      ]
    },
    {
      "metadata": {
        "id": "-j79Gkv6JjAh",
        "colab_type": "text"
      },
      "cell_type": "markdown",
      "source": [
        "**DATA AUGMENTATION**"
      ]
    },
    {
      "metadata": {
        "id": "yIJZtI5fFKHE",
        "colab_type": "code",
        "colab": {}
      },
      "cell_type": "code",
      "source": [
        "gen =ImageDataGenerator(rotation_range=8, width_shift_range=0.08, shear_range=0.3,\n",
        "                               height_shift_range=0.08, zoom_range=0.08)\n",
        "batches = gen.flow(X_train, Y_train, batch_size=64)\n",
        "val_batches = gen.flow(X_val, Y_val, batch_size=64)"
      ],
      "execution_count": 0,
      "outputs": []
    },
    {
      "metadata": {
        "id": "QJeKiYjlItQe",
        "colab_type": "code",
        "colab": {}
      },
      "cell_type": "code",
      "source": [
        "model.optimizer.lr=0.001\n",
        "history=model.fit_generator(generator=batches, steps_per_epoch=batches.n, epochs=1, \n",
        "                    validation_data=val_batches, validation_steps=val_batches.n)"
      ],
      "execution_count": 0,
      "outputs": []
    },
    {
      "metadata": {
        "id": "5q-YWgKUJ9ux",
        "colab_type": "text"
      },
      "cell_type": "markdown",
      "source": [
        "**Adding Batch Normalization**"
      ]
    },
    {
      "metadata": {
        "id": "IipWpeJYJ3_n",
        "colab_type": "code",
        "colab": {}
      },
      "cell_type": "code",
      "source": [
        "from keras.layers.normalization import BatchNormalization\n",
        "\n",
        "def bn_model():\n",
        "    model = Sequential([\n",
        "        Lambda(standardize, input_shape=(28,28,1)),\n",
        "        Convolution2D(32,(3,3), activation='relu'),\n",
        "        BatchNormalization(axis=1),\n",
        "        Convolution2D(32,(3,3), activation='relu'),\n",
        "        MaxPooling2D(),\n",
        "        BatchNormalization(axis=1),\n",
        "        Convolution2D(64,(3,3), activation='relu'),\n",
        "        BatchNormalization(axis=1),\n",
        "        Convolution2D(64,(3,3), activation='relu'),\n",
        "        MaxPooling2D(),\n",
        "        Flatten(),\n",
        "        BatchNormalization(),\n",
        "        Dense(512, activation='relu'),\n",
        "        BatchNormalization(),\n",
        "        Dense(10, activation='softmax')\n",
        "        ])\n",
        "    model.compile(Adam(), loss='categorical_crossentropy', metrics=['accuracy'])\n",
        "    return model"
      ],
      "execution_count": 0,
      "outputs": []
    },
    {
      "metadata": {
        "id": "b2y76gHBKOZi",
        "colab_type": "code",
        "colab": {
          "base_uri": "https://localhost:8080/",
          "height": 122
        },
        "outputId": "b9165093-c21f-436a-9bfa-264b493d9b21"
      },
      "cell_type": "code",
      "source": [
        "model= bn_model()\n",
        "model.optimizer.lr=0.01\n",
        "history=model.fit_generator(generator=batches, steps_per_epoch=batches.n, epochs=1, \n",
        "                    validation_data=val_batches, validation_steps=val_batches.n)"
      ],
      "execution_count": 22,
      "outputs": [
        {
          "output_type": "stream",
          "text": [
            "WARNING:tensorflow:From /usr/local/lib/python3.6/dist-packages/tensorflow/python/ops/math_ops.py:3066: to_int32 (from tensorflow.python.ops.math_ops) is deprecated and will be removed in a future version.\n",
            "Instructions for updating:\n",
            "Use tf.cast instead.\n",
            "Epoch 1/1\n",
            "37800/37800 [==============================] - 9152s 242ms/step - loss: 0.0356 - acc: 0.9898 - val_loss: 0.0310 - val_acc: 0.9933\n"
          ],
          "name": "stdout"
        }
      ]
    },
    {
      "metadata": {
        "id": "-R9id7DcKi6a",
        "colab_type": "code",
        "colab": {
          "base_uri": "https://localhost:8080/",
          "height": 51
        },
        "outputId": "14ce8837-ee8e-42db-ca04-71466c91e5c8"
      },
      "cell_type": "code",
      "source": [
        "\n",
        "gen = image.ImageDataGenerator()\n",
        "batches = gen.flow(X, Y, batch_size=64)\n",
        "history=model.fit_generator(generator=batches, steps_per_epoch=batches.n, epochs=1)"
      ],
      "execution_count": 25,
      "outputs": [
        {
          "output_type": "stream",
          "text": [
            "Epoch 1/1\n",
            "42000/42000 [==============================] - 9282s 221ms/step - loss: 0.0107 - acc: 0.9981\n"
          ],
          "name": "stdout"
        }
      ]
    },
    {
      "metadata": {
        "id": "D6DcmZTFuHQE",
        "colab_type": "code",
        "colab": {}
      },
      "cell_type": "code",
      "source": [
        "pred = model.predict_classes(X_test, verbose=0)\n",
        "\n",
        "submission=pd.DataFrame({\"ImageId\": list(range(1,len(pred)+1)),\n",
        "                         \"Label\": pred})\n",
        "submission.to_csv(\"output.csv\", index=False, header=True)"
      ],
      "execution_count": 0,
      "outputs": []
    },
    {
      "metadata": {
        "id": "T9QTsA6GY0_Q",
        "colab_type": "code",
        "colab": {}
      },
      "cell_type": "code",
      "source": [
        ""
      ],
      "execution_count": 0,
      "outputs": []
    }
  ]
}